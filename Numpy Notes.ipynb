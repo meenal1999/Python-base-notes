{
 "cells": [
  {
   "cell_type": "code",
   "execution_count": 11,
   "metadata": {},
   "outputs": [
    {
     "name": "stdout",
     "output_type": "stream",
     "text": [
      "<class 'numpy.ndarray'>\n",
      "(3,)\n",
      "1 2\n",
      "[5 2 3]\n",
      "[[0. 0.]\n",
      " [0. 0.]]\n",
      "[[1. 1.]]\n",
      "[[7 7]\n",
      " [7 7]]\n",
      "[[1. 0. 0. 0.]\n",
      " [0. 1. 0. 0.]\n",
      " [0. 0. 1. 0.]\n",
      " [0. 0. 0. 1.]]\n",
      "[[0.18560637 0.68886284]\n",
      " [0.01584835 0.55641323]] /n\n"
     ]
    }
   ],
   "source": [
    "import numpy as np\n",
    "\n",
    "a=np.array([1,2,3])\n",
    "print(type(a))\n",
    "print(a.shape)\n",
    "print(a[0],a[1])\n",
    "a[0]=5\n",
    "print(a)\n",
    "\n",
    "b=np.zeros((2,2))\n",
    "c=np.ones((1,2))\n",
    "d=np.full((2,2),7)\n",
    "e=np.eye(4)\n",
    "f=np.random.random((2,2))\n",
    "print(b)\n",
    "print(c)\n",
    "print(d)\n",
    "print(e)\n",
    "print(f)\n",
    "print('*'*40)\n"
   ]
  },
  {
   "cell_type": "code",
   "execution_count": 21,
   "metadata": {},
   "outputs": [
    {
     "name": "stdout",
     "output_type": "stream",
     "text": [
      "[[ 0  1  2  3  4]\n",
      " [ 5  6  7  8  9]\n",
      " [10 11 12 13 14]]\n",
      "(3, 5)\n",
      "2\n",
      "4\n",
      "15\n",
      "int32\n",
      "[[1 2]\n",
      " [6 7]]\n",
      "1\n",
      "777\n"
     ]
    }
   ],
   "source": [
    "import numpy as np\n",
    "#slice\n",
    "a=np.arange(15).reshape(3,5)\n",
    "print(a)\n",
    "print(a.shape)\n",
    "print(a.ndim)\n",
    "print(a.itemsize)\n",
    "print(a.size)\n",
    "print(a.dtype)\n",
    "b=a[:2,1:3]\n",
    "print(b)\n",
    "print(a[0,1])\n",
    "b[0,0]=777\n",
    "#b[0,0] is same as a[0,1]\n",
    "print(a[0,1])"
   ]
  },
  {
   "cell_type": "code",
   "execution_count": 34,
   "metadata": {},
   "outputs": [
    {
     "name": "stdout",
     "output_type": "stream",
     "text": [
      "a= \n",
      " [[ 1  2  3  4]\n",
      " [ 5  6  7  8]\n",
      " [ 9 10 11 12]] \n",
      "\n",
      "[5 6 7 8]\n",
      "[[5 6 7 8]]\n",
      "[ 2  6 10]\n",
      "[[ 2]\n",
      " [ 6]\n",
      " [10]]\n",
      "[1 6 9]\n",
      "[2 2]\n"
     ]
    }
   ],
   "source": [
    "import numpy as np\n",
    "#slice indexing\n",
    "a=np.array([[1,2,3,4],[5,6,7,8],[9,10,11,12]])\n",
    "print(\"a= \\n\",a,\"\\n\")\n",
    "\n",
    "row_r1=a[1,:]\n",
    "row_r2=a[1:2,:]\n",
    "print(row_r1)\n",
    "print(row_r2)\n",
    "\n",
    "col_r1=a[:,1]\n",
    "col_r2=a[:,1:2]\n",
    "print(col_r1)\n",
    "print(col_r2)\n",
    "\n",
    "#indexing\n",
    "print(a[[0,1,2],[0,1,0]])\n",
    "print(np.array([a[0,1],a[0,1]]))\n"
   ]
  },
  {
   "cell_type": "code",
   "execution_count": 2,
   "metadata": {},
   "outputs": [
    {
     "name": "stdout",
     "output_type": "stream",
     "text": [
      "[[ 1  2  3]\n",
      " [ 4  5  6]\n",
      " [ 7  8  9]\n",
      " [10 11 12]]\n",
      "[ 1  6  7 11]\n",
      "[[11  2  3]\n",
      " [ 4  5 16]\n",
      " [17  8  9]\n",
      " [10 21 12]]\n"
     ]
    }
   ],
   "source": [
    "#int array indexing\n",
    "import numpy as np\n",
    "a=np.array([[1,2,3],[4,5,6],[7,8,9],[10,11,12]])\n",
    "b=np.array([0,2,0,1]) #array of indices created\n",
    "print(a)\n",
    "print(a[np.arange(4),b]) #arrange array of indices\n",
    "a[np.arange(4),b]+=10 #mutate one element from each row of a using indices in b\n",
    "print(a)\n",
    "\n"
   ]
  },
  {
   "cell_type": "code",
   "execution_count": 7,
   "metadata": {},
   "outputs": [
    {
     "name": "stdout",
     "output_type": "stream",
     "text": [
      "[[0 1]\n",
      " [2 3]\n",
      " [4 5]]\n",
      "[[False False]\n",
      " [False  True]\n",
      " [ True  True]]\n",
      "[3 4 5]\n",
      "[3 4 5]\n"
     ]
    }
   ],
   "source": [
    "#bool array indexing\n",
    "import numpy as np\n",
    "a=np.arange(6).reshape(3,2)\n",
    "print(a)\n",
    "bool_ids=(a>2)\n",
    "print(bool_ids)\n",
    "print(a[bool_ids])\n",
    "print(a[a>2])"
   ]
  },
  {
   "cell_type": "code",
   "execution_count": 2,
   "metadata": {},
   "outputs": [
    {
     "name": "stdout",
     "output_type": "stream",
     "text": [
      "float64\n",
      "int32\n",
      "[[2 4]\n",
      " [6 8]]\n",
      "[[2 4]\n",
      " [6 8]]\n",
      "[[0 0]\n",
      " [0 0]]\n",
      "[[0 0]\n",
      " [0 0]]\n",
      "[[ 1  4]\n",
      " [ 9 16]]\n",
      "[[ 1  4]\n",
      " [ 9 16]]\n",
      "[[1. 1.]\n",
      " [1. 1.]]\n",
      "[[1. 1.]\n",
      " [1. 1.]]\n",
      "[[1.         1.41421356]\n",
      " [1.73205081 2.        ]]\n",
      "[[ 7 10]\n",
      " [15 22]]\n",
      "[17 39]\n",
      "[23 34]\n",
      "[17 39]\n",
      "[[1 3]\n",
      " [2 4]]\n",
      "[5 6]\n"
     ]
    }
   ],
   "source": [
    "#data types\n",
    "import numpy as np\n",
    "b=np.array([1.0,2.0])\n",
    "print(b.dtype)\n",
    "a=np.array([[1,2],[3,4]])\n",
    "print(a.dtype)\n",
    "\n",
    "print(a+a)\n",
    "print(np.add(a,a))\n",
    "print(a-a)\n",
    "print(np.subtract(a,a))\n",
    "print(a*a)\n",
    "print(np.multiply(a,a)) # elementary multiplication\n",
    "print(a/a)\n",
    "print(np.divide(a,a))\n",
    "print(np.sqrt(a))\n",
    "#vector multiplication\n",
    "print(a.dot(a))\n",
    "x=np.array([[1,2],[3,4]])\n",
    "y=np.array([5,6])\n",
    "print(x.dot(y))\n",
    "print(y.dot(x))\n",
    "print(np.matmul(x,y)) #same as dot command\n",
    "\n",
    "#transpose\n",
    "print(a.T)\n",
    "print(y.T) #does nothing for 1 row arrays\n"
   ]
  },
  {
   "cell_type": "code",
   "execution_count": 10,
   "metadata": {},
   "outputs": [
    {
     "name": "stdout",
     "output_type": "stream",
     "text": [
      "36.0\n",
      "38.0\n",
      "26.49528259898354\n"
     ]
    }
   ],
   "source": [
    "#stats\n",
    "import numpy as np\n",
    "x = np.array([23, 40, 6, 74, 38, 1, 70])\n",
    "print(np.mean(x))\n",
    "print(np.median(x))\n",
    "print(np.std(x))"
   ]
  },
  {
   "cell_type": "code",
   "execution_count": 11,
   "metadata": {},
   "outputs": [],
   "source": []
  },
  {
   "cell_type": "code",
   "execution_count": null,
   "metadata": {},
   "outputs": [],
   "source": []
  }
 ],
 "metadata": {
  "kernelspec": {
   "display_name": "Python 3",
   "language": "python",
   "name": "python3"
  },
  "language_info": {
   "codemirror_mode": {
    "name": "ipython",
    "version": 3
   },
   "file_extension": ".py",
   "mimetype": "text/x-python",
   "name": "python",
   "nbconvert_exporter": "python",
   "pygments_lexer": "ipython3",
   "version": "3.7.2"
  }
 },
 "nbformat": 4,
 "nbformat_minor": 2
}
