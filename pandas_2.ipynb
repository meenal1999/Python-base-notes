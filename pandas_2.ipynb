{
 "cells": [
  {
   "cell_type": "markdown",
   "metadata": {},
   "source": [
    "## Series Data Structure"
   ]
  },
  {
   "cell_type": "code",
   "execution_count": 1,
   "metadata": {
    "ExecuteTime": {
     "end_time": "2018-06-11T06:32:55.646399Z",
     "start_time": "2018-06-11T06:32:46.585236Z"
    }
   },
   "outputs": [
    {
     "name": "stdout",
     "output_type": "stream",
     "text": [
      "Series([], dtype: float64)\n"
     ]
    }
   ],
   "source": [
    "# pd.Series(data,index)\n",
    "# index-> Unique, Hashable, same length as data. By default np.arange(n)\n",
    "\n",
    "import pandas as pd\n",
    "\n",
    "\n",
    "s = pd.Series()\n",
    "\n",
    "print(s)"
   ]
  },
  {
   "cell_type": "markdown",
   "metadata": {
    "ExecuteTime": {
     "end_time": "2018-06-08T14:47:25.311911Z",
     "start_time": "2018-06-08T14:47:25.097520Z"
    }
   },
   "source": [
    "### Creating Series from ndarray"
   ]
  },
  {
   "cell_type": "code",
   "execution_count": 2,
   "metadata": {
    "ExecuteTime": {
     "end_time": "2018-06-11T06:32:55.679449Z",
     "start_time": "2018-06-11T06:32:55.665313Z"
    },
    "scrolled": false
   },
   "outputs": [
    {
     "name": "stdout",
     "output_type": "stream",
     "text": [
      "0    a\n",
      "1    b\n",
      "2    c\n",
      "3    d\n",
      "dtype: object\n"
     ]
    }
   ],
   "source": [
    "import numpy as np\n",
    "\n",
    "data = np.array(['a', 'b', 'c', 'd'])\n",
    "\n",
    "s = pd.Series(data)\n",
    "\n",
    "print(s)"
   ]
  },
  {
   "cell_type": "markdown",
   "metadata": {
    "ExecuteTime": {
     "end_time": "2018-06-08T14:50:50.249754Z",
     "start_time": "2018-06-08T14:50:50.141105Z"
    }
   },
   "source": [
    "### Create Series from dict"
   ]
  },
  {
   "cell_type": "code",
   "execution_count": 3,
   "metadata": {
    "ExecuteTime": {
     "end_time": "2018-06-11T06:32:55.870933Z",
     "start_time": "2018-06-11T06:32:55.710451Z"
    }
   },
   "outputs": [
    {
     "name": "stdout",
     "output_type": "stream",
     "text": [
      "a    0.0\n",
      "b    1.0\n",
      "c    2.0\n",
      "dtype: float64\n"
     ]
    }
   ],
   "source": [
    "data = {'a':0., 'b':1., 'c':2.}\n",
    "\n",
    "s = pd.Series(data)\n",
    "\n",
    "print(s)"
   ]
  },
  {
   "cell_type": "markdown",
   "metadata": {},
   "source": [
    "### Data accessing using Index"
   ]
  },
  {
   "cell_type": "code",
   "execution_count": 4,
   "metadata": {
    "ExecuteTime": {
     "end_time": "2018-06-11T06:32:56.047106Z",
     "start_time": "2018-06-11T06:32:55.899354Z"
    }
   },
   "outputs": [
    {
     "name": "stdout",
     "output_type": "stream",
     "text": [
      "a    1\n",
      "b    2\n",
      "c    3\n",
      "d    4\n",
      "e    5\n",
      "dtype: int64\n"
     ]
    }
   ],
   "source": [
    "s = pd.Series([1, 2, 3, 4, 5], index=['a', 'b', 'c', 'd', 'e'])\n",
    "\n",
    "print(s)"
   ]
  },
  {
   "cell_type": "code",
   "execution_count": 5,
   "metadata": {
    "ExecuteTime": {
     "end_time": "2018-06-11T06:33:31.923970Z",
     "start_time": "2018-06-11T06:33:31.918261Z"
    },
    "code_folding": []
   },
   "outputs": [
    {
     "name": "stdout",
     "output_type": "stream",
     "text": [
      "1\n"
     ]
    }
   ],
   "source": [
    "print(s['a'])"
   ]
  },
  {
   "cell_type": "code",
   "execution_count": 6,
   "metadata": {
    "ExecuteTime": {
     "end_time": "2018-06-10T14:36:15.583302Z",
     "start_time": "2018-06-10T14:36:15.567335Z"
    }
   },
   "outputs": [
    {
     "name": "stdout",
     "output_type": "stream",
     "text": [
      "a    1\n",
      "b    2\n",
      "e    5\n",
      "dtype: int64\n"
     ]
    }
   ],
   "source": [
    "# Retrieve multiple elements\n",
    "\n",
    "print(s[['a', 'b', 'e']])"
   ]
  },
  {
   "cell_type": "code",
   "execution_count": 7,
   "metadata": {
    "ExecuteTime": {
     "end_time": "2018-06-11T06:35:08.126654Z",
     "start_time": "2018-06-11T06:35:07.807380Z"
    }
   },
   "outputs": [
    {
     "name": "stdout",
     "output_type": "stream",
     "text": [
      "5\n"
     ]
    }
   ],
   "source": [
    "print(s['e'])"
   ]
  },
  {
   "cell_type": "markdown",
   "metadata": {},
   "source": [
    "### Re indexing"
   ]
  },
  {
   "cell_type": "code",
   "execution_count": 8,
   "metadata": {
    "ExecuteTime": {
     "end_time": "2018-06-11T06:42:26.239940Z",
     "start_time": "2018-06-11T06:42:26.143049Z"
    },
    "scrolled": false
   },
   "outputs": [
    {
     "name": "stdout",
     "output_type": "stream",
     "text": [
      "            A     x         y       C           D\n",
      "0  2018-06-11   0.0  0.700936    High  109.897309\n",
      "1  2018-06-12   1.0  0.789544  Medium  101.115849\n",
      "2  2018-06-13   2.0  0.074279     Low  101.660343\n",
      "3  2018-06-14   3.0  0.622866     Low  101.181546\n",
      "4  2018-06-15   4.0  0.057271    High  107.001259\n",
      "5  2018-06-16   5.0  0.391019  Medium   80.779873\n",
      "6  2018-06-17   6.0  0.081718    High   94.301698\n",
      "7  2018-06-18   7.0  0.286690  Medium  115.948204\n",
      "8  2018-06-19   8.0  0.254840  Medium   92.621945\n",
      "9  2018-06-20   9.0  0.147690    High  116.315225\n",
      "10 2018-06-21  10.0  0.718981     Low   97.144149\n",
      "11 2018-06-22  11.0  0.618062    High   93.361492\n",
      "12 2018-06-23  12.0  0.153686    High  100.278309\n",
      "13 2018-06-24  13.0  0.143022     Low  119.408892\n",
      "14 2018-06-25  14.0  0.967628  Medium   95.944765\n",
      "15 2018-06-26  15.0  0.366387  Medium  105.747320\n",
      "16 2018-06-27  16.0  0.380104  Medium  102.963910\n",
      "17 2018-06-28  17.0  0.764298    High   99.678625\n",
      "18 2018-06-29  18.0  0.812610     Low   77.219582\n",
      "19 2018-06-30  19.0  0.463188     Low  106.258512\n"
     ]
    }
   ],
   "source": [
    "N = 20\n",
    "\n",
    "df = pd.DataFrame({\n",
    "    'A':pd.date_range(start='2018-06-11', periods=N),\n",
    "    'x':np.linspace(0, stop=N-1,num=N),\n",
    "    'y':np.random.rand(N),\n",
    "    'C':np.random.choice(['Low','Medium','High'],N).tolist(),\n",
    "    'D':np.random.normal(100, 10, size=(N))\n",
    "})\n",
    "\n",
    "print(df)"
   ]
  },
  {
   "cell_type": "code",
   "execution_count": 12,
   "metadata": {
    "ExecuteTime": {
     "end_time": "2018-06-11T06:44:07.398096Z",
     "start_time": "2018-06-11T06:44:07.281052Z"
    },
    "scrolled": true
   },
   "outputs": [
    {
     "data": {
      "text/html": [
       "<div>\n",
       "<style scoped>\n",
       "    .dataframe tbody tr th:only-of-type {\n",
       "        vertical-align: middle;\n",
       "    }\n",
       "\n",
       "    .dataframe tbody tr th {\n",
       "        vertical-align: top;\n",
       "    }\n",
       "\n",
       "    .dataframe thead th {\n",
       "        text-align: right;\n",
       "    }\n",
       "</style>\n",
       "<table border=\"1\" class=\"dataframe\">\n",
       "  <thead>\n",
       "    <tr style=\"text-align: right;\">\n",
       "      <th></th>\n",
       "      <th>x</th>\n",
       "      <th>y</th>\n",
       "      <th>D</th>\n",
       "    </tr>\n",
       "  </thead>\n",
       "  <tbody>\n",
       "    <tr>\n",
       "      <th>count</th>\n",
       "      <td>20.00000</td>\n",
       "      <td>20.000000</td>\n",
       "      <td>20.000000</td>\n",
       "    </tr>\n",
       "    <tr>\n",
       "      <th>mean</th>\n",
       "      <td>9.50000</td>\n",
       "      <td>0.559471</td>\n",
       "      <td>101.225175</td>\n",
       "    </tr>\n",
       "    <tr>\n",
       "      <th>std</th>\n",
       "      <td>5.91608</td>\n",
       "      <td>0.248659</td>\n",
       "      <td>11.100186</td>\n",
       "    </tr>\n",
       "    <tr>\n",
       "      <th>min</th>\n",
       "      <td>0.00000</td>\n",
       "      <td>0.137981</td>\n",
       "      <td>79.742581</td>\n",
       "    </tr>\n",
       "    <tr>\n",
       "      <th>25%</th>\n",
       "      <td>4.75000</td>\n",
       "      <td>0.336051</td>\n",
       "      <td>90.432680</td>\n",
       "    </tr>\n",
       "    <tr>\n",
       "      <th>50%</th>\n",
       "      <td>9.50000</td>\n",
       "      <td>0.593610</td>\n",
       "      <td>102.816320</td>\n",
       "    </tr>\n",
       "    <tr>\n",
       "      <th>75%</th>\n",
       "      <td>14.25000</td>\n",
       "      <td>0.768640</td>\n",
       "      <td>109.216113</td>\n",
       "    </tr>\n",
       "    <tr>\n",
       "      <th>max</th>\n",
       "      <td>19.00000</td>\n",
       "      <td>0.910355</td>\n",
       "      <td>122.634662</td>\n",
       "    </tr>\n",
       "  </tbody>\n",
       "</table>\n",
       "</div>"
      ],
      "text/plain": [
       "              x          y           D\n",
       "count  20.00000  20.000000   20.000000\n",
       "mean    9.50000   0.559471  101.225175\n",
       "std     5.91608   0.248659   11.100186\n",
       "min     0.00000   0.137981   79.742581\n",
       "25%     4.75000   0.336051   90.432680\n",
       "50%     9.50000   0.593610  102.816320\n",
       "75%    14.25000   0.768640  109.216113\n",
       "max    19.00000   0.910355  122.634662"
      ]
     },
     "execution_count": 12,
     "metadata": {},
     "output_type": "execute_result"
    }
   ],
   "source": [
    "df.describe()"
   ]
  },
  {
   "cell_type": "code",
   "execution_count": 13,
   "metadata": {
    "ExecuteTime": {
     "end_time": "2018-06-11T06:47:14.550400Z",
     "start_time": "2018-06-11T06:47:14.529896Z"
    },
    "scrolled": true
   },
   "outputs": [
    {
     "name": "stdout",
     "output_type": "stream",
     "text": [
      "           A    C   B\n",
      "0 2018-06-11  Low NaN\n",
      "2 2018-06-13  Low NaN\n",
      "5 2018-06-16  Low NaN\n"
     ]
    }
   ],
   "source": [
    "df_reindexed = df.reindex(index=[0,2,5], columns=['A','C','B'])\n",
    "\n",
    "print(df_reindexed)"
   ]
  },
  {
   "cell_type": "code",
   "execution_count": 14,
   "metadata": {
    "ExecuteTime": {
     "end_time": "2018-06-11T06:54:47.037339Z",
     "start_time": "2018-06-11T06:54:47.017834Z"
    },
    "scrolled": false
   },
   "outputs": [
    {
     "name": "stdout",
     "output_type": "stream",
     "text": [
      "       col1      col2      col3\n",
      "0  1.106665 -0.232911 -0.463755\n",
      "1 -0.286310  0.127137  0.601000\n",
      "2 -0.078112 -1.806142  0.993111\n",
      "3 -1.246870  1.204081  0.217491\n",
      "4 -0.301412 -0.592157  0.656791\n",
      "5  0.304095 -0.144615  0.251180\n",
      "6 -0.165173  0.852500 -0.440836\n",
      "7 -0.348204  0.046056  0.692618\n",
      "8  2.087041 -0.349468 -0.689282\n",
      "9  0.714234 -0.380419 -0.449328\n",
      "**************************************************\n",
      "       col1      col2      col3\n",
      "0 -0.623329  0.065475 -2.573017\n",
      "1 -1.353680  0.100206 -1.065656\n",
      "2 -0.309874 -1.571097  2.492272\n",
      "3 -0.237456  0.932933 -0.265728\n",
      "4  0.769978  0.298107 -0.687182\n",
      "5  0.645052 -0.295347 -1.053125\n",
      "6 -0.440795 -1.410173  1.314725\n"
     ]
    }
   ],
   "source": [
    "# Reindex to align with other Objects\n",
    "\n",
    "df_1 = pd.DataFrame(np.random.randn(10,3), columns=['col1', 'col2', 'col3'])\n",
    "df_2 = pd.DataFrame(np.random.randn(7, 3), columns=['col1', 'col2', 'col3'])\n",
    "\n",
    "print(df_1)\n",
    "\n",
    "print('*'*50)\n",
    "\n",
    "print(df_2)"
   ]
  },
  {
   "cell_type": "code",
   "execution_count": 15,
   "metadata": {
    "ExecuteTime": {
     "end_time": "2018-06-11T06:54:47.616211Z",
     "start_time": "2018-06-11T06:54:47.566716Z"
    }
   },
   "outputs": [
    {
     "data": {
      "text/html": [
       "<div>\n",
       "<style scoped>\n",
       "    .dataframe tbody tr th:only-of-type {\n",
       "        vertical-align: middle;\n",
       "    }\n",
       "\n",
       "    .dataframe tbody tr th {\n",
       "        vertical-align: top;\n",
       "    }\n",
       "\n",
       "    .dataframe thead th {\n",
       "        text-align: right;\n",
       "    }\n",
       "</style>\n",
       "<table border=\"1\" class=\"dataframe\">\n",
       "  <thead>\n",
       "    <tr style=\"text-align: right;\">\n",
       "      <th></th>\n",
       "      <th>col1</th>\n",
       "      <th>col2</th>\n",
       "      <th>col3</th>\n",
       "    </tr>\n",
       "  </thead>\n",
       "  <tbody>\n",
       "    <tr>\n",
       "      <th>count</th>\n",
       "      <td>10.000000</td>\n",
       "      <td>10.000000</td>\n",
       "      <td>10.000000</td>\n",
       "    </tr>\n",
       "    <tr>\n",
       "      <th>mean</th>\n",
       "      <td>0.178595</td>\n",
       "      <td>-0.127594</td>\n",
       "      <td>0.136899</td>\n",
       "    </tr>\n",
       "    <tr>\n",
       "      <th>std</th>\n",
       "      <td>0.927735</td>\n",
       "      <td>0.815602</td>\n",
       "      <td>0.602583</td>\n",
       "    </tr>\n",
       "    <tr>\n",
       "      <th>min</th>\n",
       "      <td>-1.246870</td>\n",
       "      <td>-1.806142</td>\n",
       "      <td>-0.689282</td>\n",
       "    </tr>\n",
       "    <tr>\n",
       "      <th>25%</th>\n",
       "      <td>-0.297636</td>\n",
       "      <td>-0.372681</td>\n",
       "      <td>-0.447205</td>\n",
       "    </tr>\n",
       "    <tr>\n",
       "      <th>50%</th>\n",
       "      <td>-0.121643</td>\n",
       "      <td>-0.188763</td>\n",
       "      <td>0.234336</td>\n",
       "    </tr>\n",
       "    <tr>\n",
       "      <th>75%</th>\n",
       "      <td>0.611700</td>\n",
       "      <td>0.106867</td>\n",
       "      <td>0.642844</td>\n",
       "    </tr>\n",
       "    <tr>\n",
       "      <th>max</th>\n",
       "      <td>2.087041</td>\n",
       "      <td>1.204081</td>\n",
       "      <td>0.993111</td>\n",
       "    </tr>\n",
       "  </tbody>\n",
       "</table>\n",
       "</div>"
      ],
      "text/plain": [
       "            col1       col2       col3\n",
       "count  10.000000  10.000000  10.000000\n",
       "mean    0.178595  -0.127594   0.136899\n",
       "std     0.927735   0.815602   0.602583\n",
       "min    -1.246870  -1.806142  -0.689282\n",
       "25%    -0.297636  -0.372681  -0.447205\n",
       "50%    -0.121643  -0.188763   0.234336\n",
       "75%     0.611700   0.106867   0.642844\n",
       "max     2.087041   1.204081   0.993111"
      ]
     },
     "execution_count": 15,
     "metadata": {},
     "output_type": "execute_result"
    }
   ],
   "source": [
    "df_1.describe()"
   ]
  },
  {
   "cell_type": "code",
   "execution_count": 16,
   "metadata": {
    "ExecuteTime": {
     "end_time": "2018-06-11T06:54:49.708461Z",
     "start_time": "2018-06-11T06:54:49.697913Z"
    },
    "scrolled": true
   },
   "outputs": [
    {
     "name": "stdout",
     "output_type": "stream",
     "text": [
      "       col1      col2      col3\n",
      "0  1.106665 -0.232911 -0.463755\n",
      "1 -0.286310  0.127137  0.601000\n",
      "2 -0.078112 -1.806142  0.993111\n",
      "3 -1.246870  1.204081  0.217491\n",
      "4 -0.301412 -0.592157  0.656791\n",
      "5  0.304095 -0.144615  0.251180\n",
      "6 -0.165173  0.852500 -0.440836\n"
     ]
    }
   ],
   "source": [
    "df_1 = df_1.reindex_like(df_2)\n",
    "\n",
    "print(df_1)\n",
    "\n",
    "# column name must match otherwise NAN will be added"
   ]
  },
  {
   "cell_type": "markdown",
   "metadata": {},
   "source": [
    "## Missing Data"
   ]
  },
  {
   "cell_type": "markdown",
   "metadata": {},
   "source": [
    "### When and why is data missed?"
   ]
  },
  {
   "cell_type": "markdown",
   "metadata": {},
   "source": [
    "### How to check missing values?"
   ]
  },
  {
   "cell_type": "code",
   "execution_count": 9,
   "metadata": {
    "ExecuteTime": {
     "end_time": "2018-06-08T16:12:27.442127Z",
     "start_time": "2018-06-08T16:12:27.389987Z"
    },
    "scrolled": true
   },
   "outputs": [
    {
     "name": "stdout",
     "output_type": "stream",
     "text": [
      "        one       two     three\n",
      "a  0.233295  1.517940  0.028751\n",
      "c  0.420871  1.122614  2.037508\n",
      "e -1.291245  0.162530  0.575053\n",
      "f  0.196549  0.434192  0.238056\n",
      "h  2.633752 -1.035810  0.431360\n",
      "**************************************************\n",
      "        one       two     three\n",
      "a  0.233295  1.517940  0.028751\n",
      "b       NaN       NaN       NaN\n",
      "c  0.420871  1.122614  2.037508\n",
      "d       NaN       NaN       NaN\n",
      "e -1.291245  0.162530  0.575053\n",
      "f  0.196549  0.434192  0.238056\n",
      "g       NaN       NaN       NaN\n",
      "h  2.633752 -1.035810  0.431360\n"
     ]
    }
   ],
   "source": [
    "import pandas as pd\n",
    "import numpy as np\n",
    "\n",
    "df = pd.DataFrame(np.random.randn(5, 3), index = ['a', 'c', 'e', 'f', 'h']\\\n",
    "                 , columns = ['one', 'two', 'three'])\n",
    "\n",
    "print(df)\n",
    "\n",
    "print('*'*50)\n",
    "\n",
    "df = df.reindex(['a', 'b', 'c', 'd', 'e', 'f', 'g', 'h'])\n",
    "\n",
    "print(df)"
   ]
  },
  {
   "cell_type": "code",
   "execution_count": 18,
   "metadata": {
    "ExecuteTime": {
     "end_time": "2018-06-08T16:13:44.462894Z",
     "start_time": "2018-06-08T16:13:44.451974Z"
    },
    "scrolled": true
   },
   "outputs": [
    {
     "name": "stdout",
     "output_type": "stream",
     "text": [
      "a    False\n",
      "b     True\n",
      "c    False\n",
      "d     True\n",
      "e    False\n",
      "f    False\n",
      "g     True\n",
      "h    False\n",
      "Name: one, dtype: bool\n"
     ]
    }
   ],
   "source": [
    "# Check for missing values\n",
    "\n",
    "print(df['one'].isnull())"
   ]
  },
  {
   "cell_type": "code",
   "execution_count": 19,
   "metadata": {
    "ExecuteTime": {
     "end_time": "2018-06-08T16:14:23.325728Z",
     "start_time": "2018-06-08T16:14:23.306053Z"
    },
    "scrolled": false
   },
   "outputs": [
    {
     "name": "stdout",
     "output_type": "stream",
     "text": [
      "a     True\n",
      "b    False\n",
      "c     True\n",
      "d    False\n",
      "e     True\n",
      "f     True\n",
      "g    False\n",
      "h     True\n",
      "Name: one, dtype: bool\n"
     ]
    }
   ],
   "source": [
    "print(df['one'].notnull())"
   ]
  },
  {
   "cell_type": "markdown",
   "metadata": {
    "ExecuteTime": {
     "end_time": "2018-06-08T16:17:31.262557Z",
     "start_time": "2018-06-08T16:17:31.170897Z"
    }
   },
   "source": [
    "### Calculations with missing values"
   ]
  },
  {
   "cell_type": "code",
   "execution_count": 11,
   "metadata": {
    "ExecuteTime": {
     "end_time": "2018-06-08T16:17:31.262557Z",
     "start_time": "2018-06-08T16:17:31.170897Z"
    }
   },
   "outputs": [
    {
     "name": "stdout",
     "output_type": "stream",
     "text": [
      "2.1932210511569448\n"
     ]
    }
   ],
   "source": [
    "# When summing the data, NA will be treated as zero\n",
    "\n",
    "print(df['one'].sum())"
   ]
  },
  {
   "cell_type": "code",
   "execution_count": 12,
   "metadata": {
    "ExecuteTime": {
     "end_time": "2018-06-08T16:19:44.262881Z",
     "start_time": "2018-06-08T16:19:44.166921Z"
    }
   },
   "outputs": [
    {
     "name": "stdout",
     "output_type": "stream",
     "text": [
      "   one  two\n",
      "0  NaN  NaN\n",
      "1  NaN  NaN\n",
      "2  NaN  NaN\n",
      "3  NaN  NaN\n",
      "4  NaN  NaN\n",
      "5  NaN  NaN\n",
      "**************************************************\n",
      "0\n"
     ]
    }
   ],
   "source": [
    "# If the data are all NA, then the result will be NA/Zero\n",
    "\n",
    "df_na = pd.DataFrame(index=[0,1,2,3,4,5], columns=['one', 'two'])\n",
    "\n",
    "print(df_na)\n",
    "\n",
    "print('*'*50)\n",
    "\n",
    "print(df_na['one'].sum())"
   ]
  },
  {
   "cell_type": "markdown",
   "metadata": {
    "ExecuteTime": {
     "end_time": "2018-06-08T16:24:59.452106Z",
     "start_time": "2018-06-08T16:24:59.418676Z"
    }
   },
   "source": [
    "### Cleaning missing data"
   ]
  },
  {
   "cell_type": "code",
   "execution_count": 22,
   "metadata": {
    "ExecuteTime": {
     "end_time": "2018-06-08T16:24:59.452106Z",
     "start_time": "2018-06-08T16:24:59.418676Z"
    },
    "scrolled": false
   },
   "outputs": [
    {
     "name": "stdout",
     "output_type": "stream",
     "text": [
      "        one       two     three\n",
      "a -1.151204  1.015154  0.303267\n",
      "c  0.588296  0.423108  1.975285\n",
      "e -0.374714  1.330412  1.254876\n",
      "**************************************************\n",
      "        one       two     three\n",
      "a -1.151204  1.015154  0.303267\n",
      "b       NaN       NaN       NaN\n",
      "c  0.588296  0.423108  1.975285\n",
      "**************************************************\n",
      "        one       two     three\n",
      "a -1.151204  1.015154  0.303267\n",
      "b  0.000000  0.000000  0.000000\n",
      "c  0.588296  0.423108  1.975285\n"
     ]
    }
   ],
   "source": [
    "# Replacing nan with a Scalar value\n",
    "\n",
    "df = pd.DataFrame(np.random.randn(3, 3), index=['a', 'c', 'e'], \\\n",
    "                 columns=['one', 'two', 'three'])\n",
    "\n",
    "print(df)\n",
    "\n",
    "print('*'*50)\n",
    "\n",
    "df = df.reindex(['a', 'b', 'c'])\n",
    "\n",
    "print(df)\n",
    "\n",
    "print('*'*50)\n",
    "\n",
    "print(df.fillna(0))"
   ]
  },
  {
   "cell_type": "markdown",
   "metadata": {
    "ExecuteTime": {
     "end_time": "2018-06-08T16:25:46.695862Z",
     "start_time": "2018-06-08T16:25:46.667402Z"
    }
   },
   "source": [
    "### Drop missing values"
   ]
  },
  {
   "cell_type": "code",
   "execution_count": 23,
   "metadata": {
    "ExecuteTime": {
     "end_time": "2018-06-08T16:25:46.695862Z",
     "start_time": "2018-06-08T16:25:46.667402Z"
    },
    "scrolled": true
   },
   "outputs": [
    {
     "name": "stdout",
     "output_type": "stream",
     "text": [
      "        one       two     three\n",
      "a  0.608955 -1.549448  0.676293\n",
      "c  0.317040 -0.675192  0.888744\n",
      "e  0.640266  0.029366 -1.193172\n",
      "f  0.206575  0.958447  0.058521\n",
      "h -0.078746 -0.931406  0.340437\n",
      "**************************************************\n",
      "        one       two     three\n",
      "a  0.608955 -1.549448  0.676293\n",
      "b       NaN       NaN       NaN\n",
      "c  0.317040 -0.675192  0.888744\n",
      "d       NaN       NaN       NaN\n",
      "e  0.640266  0.029366 -1.193172\n",
      "f  0.206575  0.958447  0.058521\n",
      "g       NaN       NaN       NaN\n",
      "h -0.078746 -0.931406  0.340437\n"
     ]
    }
   ],
   "source": [
    "import pandas as pd\n",
    "import numpy as np\n",
    "\n",
    "df = pd.DataFrame(np.random.randn(5, 3), index = ['a', 'c', 'e', 'f', 'h'], columns = ['one', 'two', 'three'])\n",
    "\n",
    "print(df)\n",
    "\n",
    "print('*'*50)\n",
    "\n",
    "df = df.reindex(['a', 'b', 'c', 'd', 'e', 'f', 'g', 'h'])\n",
    "\n",
    "print(df)"
   ]
  },
  {
   "cell_type": "code",
   "execution_count": 24,
   "metadata": {
    "ExecuteTime": {
     "end_time": "2018-06-08T16:26:03.765460Z",
     "start_time": "2018-06-08T16:26:03.751175Z"
    },
    "scrolled": false
   },
   "outputs": [
    {
     "name": "stdout",
     "output_type": "stream",
     "text": [
      "        one       two     three\n",
      "a  0.608955 -1.549448  0.676293\n",
      "c  0.317040 -0.675192  0.888744\n",
      "e  0.640266  0.029366 -1.193172\n",
      "f  0.206575  0.958447  0.058521\n",
      "h -0.078746 -0.931406  0.340437\n"
     ]
    }
   ],
   "source": [
    "print(df.dropna())"
   ]
  },
  {
   "cell_type": "code",
   "execution_count": 14,
   "metadata": {
    "ExecuteTime": {
     "end_time": "2018-06-08T16:26:33.888995Z",
     "start_time": "2018-06-08T16:26:33.870128Z"
    },
    "scrolled": true
   },
   "outputs": [
    {
     "name": "stdout",
     "output_type": "stream",
     "text": [
      "Empty DataFrame\n",
      "Columns: []\n",
      "Index: [a, b, c, d, e, f, g, h]\n"
     ]
    }
   ],
   "source": [
    "print(df.dropna(axis=1))"
   ]
  },
  {
   "cell_type": "markdown",
   "metadata": {},
   "source": [
    "## Data"
   ]
  },
  {
   "cell_type": "markdown",
   "metadata": {},
   "source": [
    "Numbers\n",
    "\n",
    "Categorical"
   ]
  },
  {
   "cell_type": "markdown",
   "metadata": {},
   "source": [
    "## A Small Case Study"
   ]
  },
  {
   "cell_type": "markdown",
   "metadata": {},
   "source": [
    "http://analytics-magazine.org/missing-values/\n",
    "\n",
    "<b>Major takeaway:</b>\n",
    "1. Missing values in the data create uncertainty for the analyst and the information consumer because decisions need to be made without having the full picture.\n",
    "2. Missing values can also reduce the number of usable records for the analysis, or force analysts to eliminate variables from the analysis.\n",
    "3. Consequently, if an observation has a missing value in any of the required variables, the whole observation (data record) needs to be omitted from the analysis.\n",
    "4. Other options would be to exclude it from the analysis variable as a whole or to insert imputation values for the missing data points.\n"
   ]
  },
  {
   "cell_type": "code",
   "execution_count": null,
   "metadata": {},
   "outputs": [],
   "source": []
  }
 ],
 "metadata": {
  "kernelspec": {
   "display_name": "Python 3",
   "language": "python",
   "name": "python3"
  },
  "language_info": {
   "codemirror_mode": {
    "name": "ipython",
    "version": 3
   },
   "file_extension": ".py",
   "mimetype": "text/x-python",
   "name": "python",
   "nbconvert_exporter": "python",
   "pygments_lexer": "ipython3",
   "version": "3.7.2"
  },
  "toc": {
   "nav_menu": {},
   "number_sections": true,
   "sideBar": true,
   "skip_h1_title": false,
   "title_cell": "Table of Contents",
   "title_sidebar": "Contents",
   "toc_cell": false,
   "toc_position": {},
   "toc_section_display": true,
   "toc_window_display": false
  },
  "varInspector": {
   "cols": {
    "lenName": 16,
    "lenType": 16,
    "lenVar": 40
   },
   "kernels_config": {
    "python": {
     "delete_cmd_postfix": "",
     "delete_cmd_prefix": "del ",
     "library": "var_list.py",
     "varRefreshCmd": "print(var_dic_list())"
    },
    "r": {
     "delete_cmd_postfix": ") ",
     "delete_cmd_prefix": "rm(",
     "library": "var_list.r",
     "varRefreshCmd": "cat(var_dic_list()) "
    }
   },
   "types_to_exclude": [
    "module",
    "function",
    "builtin_function_or_method",
    "instance",
    "_Feature"
   ],
   "window_display": false
  }
 },
 "nbformat": 4,
 "nbformat_minor": 2
}
